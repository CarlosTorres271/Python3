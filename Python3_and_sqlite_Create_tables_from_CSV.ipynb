{
 "cells": [
  {
   "cell_type": "code",
   "execution_count": null,
   "metadata": {
    "collapsed": true
   },
   "outputs": [],
   "source": [
    "import pandas as pd\n",
    "from pandas import DataFrame, Series\n",
    "import sqlite3\n",
    "\n",
    "conn = sqlite3.connect(\"sqlite/myDB2.db\")\n",
    "table_list = conn.execute(\"SELECT TRIM(name) as nm FROM sqlite_master WHERE type = 'table';\")\n",
    "sqlite_tbl_list = []\n",
    "\n",
    "\n",
    "csvs = [\n",
    "        'Product', \n",
    "        'ProductCategory', \n",
    "        'ProductCostHistory', \n",
    "        'ProductDocument', \n",
    "        'ProductModelIllustration', \n",
    "        'ProductSubCategory',\n",
    "        'ProductTransactions'\n",
    "       ]\n",
    "\n",
    "for tbl in table_list:\n",
    "            sqlite_tbl_list.append( tbl)\n",
    "\n",
    "def fnStr( tbl_str ):\n",
    "    result = str(tbl_str)\n",
    "    ln = len(result)\n",
    "    return result[2:ln-3]\n",
    "\n",
    "\n",
    "def fnMtc( listA, listB):\n",
    "    mt=[]\n",
    "    \n",
    "    for a in listA:\n",
    "        for b in listB:\n",
    "            if a == fnStr(b):\n",
    "                mt.append(a);\n",
    "                \n",
    "    return(mt)\n",
    "        \n",
    "\n",
    "tbl_exists =(fnMtc(csvs, sqlite_tbl_list))\n",
    "tbl_create_list = list(set(csvs) - set(tbl_exists))\n",
    "\n",
    "if not tbl_create_list:\n",
    "  print(\"No Tables to Create\")\n",
    "\n",
    "if tbl_create_list:\n",
    "      \n",
    "      for tbl in tbl_create_list:\n",
    "          print (\"table created in sqlite: \" + tbl)      \n",
    "          dataset_1 = pd.read_csv(tbl + '.csv')          \n",
    "          dataset_1.to_sql(tbl, con= conn, flavor='sqlite', \n",
    "                     if_exists='fail', index=False)\n",
    "#______________________________________________\n",
    "conn.close()"
   ]
  }
 ],
 "metadata": {
  "kernelspec": {
   "display_name": "Python 3",
   "language": "python",
   "name": "python3"
  },
  "language_info": {
   "codemirror_mode": {
    "name": "ipython",
    "version": 3
   },
   "file_extension": ".py",
   "mimetype": "text/x-python",
   "name": "python",
   "nbconvert_exporter": "python",
   "pygments_lexer": "ipython3",
   "version": "3.6.4"
  }
 },
 "nbformat": 4,
 "nbformat_minor": 2
}
