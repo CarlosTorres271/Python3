{
 "cells": [
  {
   "cell_type": "code",
   "execution_count": null,
   "metadata": {
    "collapsed": true
   },
   "outputs": [],
   "source": [
    "#drop tables\n",
    "import sqlite3\n",
    "\n",
    "\n",
    "conn = sqlite3.connect(\"sqlite/myDB2.db\")\n",
    "\n",
    "c = conn.cursor()\n",
    "\n",
    "#drop table\n",
    "c.execute(\"DROP TABLE Product\")\n",
    "c.execute(\"DROP TABLE ProductCategory\")\n",
    "c.execute(\"DROP TABLE ProductCostHistory\")\n",
    "c.execute(\"DROP TABLE ProductDocument\")\n",
    "c.execute(\"DROP TABLE ProductModelIllustration\")\n",
    "c.execute(\"DROP TABLE ProductSubCategory\")\n",
    "c.execute(\"DROP TABLE ProductTransactions\")\n",
    "\n",
    "conn.close()\n",
    "print(\"Completed!\")"
   ]
  }
 ],
 "metadata": {
  "kernelspec": {
   "display_name": "Python 3",
   "language": "python",
   "name": "python3"
  },
  "language_info": {
   "codemirror_mode": {
    "name": "ipython",
    "version": 3
   },
   "file_extension": ".py",
   "mimetype": "text/x-python",
   "name": "python",
   "nbconvert_exporter": "python",
   "pygments_lexer": "ipython3",
   "version": "3.6.4"
  }
 },
 "nbformat": 4,
 "nbformat_minor": 2
}
